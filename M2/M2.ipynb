{
 "cells": [
  {
   "cell_type": "markdown",
   "metadata": {},
   "source": [
    "# Module 2: Introduction to Python\n",
    "\n",
    "This module focuses on the basic features in the Python programming language that underlie most data analytics programs (or scripts). We have already learned the basic concepts of the Python programming language such as how to create variables, basic data types and mathematical operators, and how to document your programs with comments. Now, we turn our attention to other built-in data types and data structures in Python. Then, we will learn about Boolean and logical operators in Python and how they can be used to control the flow of a Python program by using conditional statements. We will also explore two different types of loops to control the flow of our programs. Then, we will learn about functions and how they can simplify developing and maintaining computer programs. We will also learn how to create and call functions in Python. \n",
    "\n",
    "\n",
    "## Learning Objectives\n",
    "\n",
    "#### By the end of this module, you should be able to:\n",
    "\n",
    "- write simple Python scripts\n",
    "- effectively create and use variables of different data types in a Python program\n",
    "- understand the different built-in data structures in Python\n",
    "- write simple Python functions\n",
    "- apply Boolean and logical operators within conditional statements in a Python program\n",
    "\n",
    "\n",
    "### Activities\n",
    "\n",
    "| Activities                | \n",
    "| :--------------------------------------- | \n",
    "| **[Python Data Structures][nb1]** |\n",
    "| **[Python Conditional Statements and Control Flow][nb2]** |\n",
    "| **[Introduction to Python Functions][nb3]** |\n",
    "\n",
    "\n",
    "[nb1]: dataStructures.ipynb\n",
    "[nb2]: intro2control.ipynb\n",
    "[nb3]: intro2functions.ipynb"
   ]
  },
  {
   "cell_type": "markdown",
   "metadata": {},
   "source": [
    "## Ancillary Information\n",
    "\n",
    "The following links are to additional documentation that you might find helpful in learning this material.\n",
    "\n",
    "1. The wikibook [Python Programming/Functions][1] has information relevant to the advanced features of creating user-defined functions, much of what we did **not** cover, but is nonetheless very useful information. \n",
    "\n",
    "-----\n",
    "\n",
    "[1]: https://en.wikibooks.org/wiki/Python_Programming/Functions"
   ]
  },
  {
   "cell_type": "markdown",
   "metadata": {
    "deletable": false,
    "editable": false
   },
   "source": [
    "-----\n",
    "\n",
    "**&copy; 2021 - Present: Matthew D. Dean, Ph.D.   \n",
    "Clinical Associate Professor of Business Analytics at William \\& Mary.**"
   ]
  }
 ],
 "metadata": {
  "kernelspec": {
   "display_name": "Python 3 (ipykernel)",
   "language": "python",
   "name": "python3"
  },
  "language_info": {
   "codemirror_mode": {
    "name": "ipython",
    "version": 3
   },
   "file_extension": ".py",
   "mimetype": "text/x-python",
   "name": "python",
   "nbconvert_exporter": "python",
   "pygments_lexer": "ipython3",
   "version": "3.8.8"
  }
 },
 "nbformat": 4,
 "nbformat_minor": 2
}
