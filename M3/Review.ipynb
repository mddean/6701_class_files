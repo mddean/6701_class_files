{
 "cells": [
  {
   "cell_type": "markdown",
   "id": "99a5491f",
   "metadata": {},
   "source": [
    "# A Few Basic Concepts Revisited\n",
    "I thought now would be a good time to revisit a few basic concepts to make sure you are fully understanding these vital topics. Here are the topics we will cover:\n",
    "\n",
    "1. Jupyter Notebook Code Cells\n",
    "2. `for` Loops\n",
    "3. Functions "
   ]
  },
  {
   "cell_type": "markdown",
   "id": "d485ec3f",
   "metadata": {},
   "source": [
    "## Jupyter Notebook Code Cells\n",
    "Remember that Python runs one line at time. We have been restricting ourselves to using Jupyter Notebooks. In a notebook file (which as the extension `.ipynb`), you may have multiple types of cells including Markdown, Code, Raw NBCovert, and Heading. We have only been using Code and Markdown cells. This cell is a Markdown cell. You can see this two ways: (1) the dropdown on the toolbar or (2) the rendering of the cell into nicely formatted HTML. \n",
    "\n",
    "By default, when you add a new cell to a notebook file it is a Code cell. Code cells are where you type the python commands you want to execute. In some sense, each code cell acts in isolation. What that means is that you can run a code cell, then add a new code cell above it, and run that code cell referencing the variables in the cell below it (which was already run). While this is very, very convenient when trying out new concepts (or learning new concepts in class), it can be become problematic when try replicate the results later. \n",
    "\n",
    "When you shutdown the Jupyter Notebook server, the notebook you were working in keeps the output and line nubmers in square brackets. However, when you restart the Jupyter Notebook server, all of the variables, user-defined functions, etc. are no longer in working memory. This means you will not have access to those variables and have to re-run all of the Code cells.\n",
    "\n",
    "Let's look at this in action."
   ]
  },
  {
   "cell_type": "code",
   "execution_count": null,
   "id": "e041c3c1",
   "metadata": {},
   "outputs": [],
   "source": [
    "# Create a variable and assign it a value\n",
    "x = 5"
   ]
  },
  {
   "cell_type": "code",
   "execution_count": null,
   "id": "68bec787",
   "metadata": {},
   "outputs": [],
   "source": [
    "# Create another variable and assign it a value\n",
    "y = 7"
   ]
  },
  {
   "cell_type": "code",
   "execution_count": null,
   "id": "d8315b7f",
   "metadata": {},
   "outputs": [],
   "source": [
    "# print out the summation of the two variables\n",
    "print(f'{x} + {y} = {x+y}')"
   ]
  },
  {
   "cell_type": "markdown",
   "id": "6a2389ef",
   "metadata": {},
   "source": [
    "### Now Add a Code Cell Above\n",
    "Now add a code cell above your first code cell above and copy the `print` statement in the third code cell. Before you try running it, what will happen? Will it throw an error? Will it work?\n",
    "\n",
    "What happens if I go to `Kernel` on the menu bar and select `Restart and Run All`? "
   ]
  },
  {
   "cell_type": "markdown",
   "id": "7414b368",
   "metadata": {},
   "source": [
    "----\n",
    "\n",
    "## `for` Loops\n",
    "\n",
    "When we want to repeat a task a known number of times we use a `for` loop. Let's revisit one of your questions from Assignment2, but slightly modified: squaring numbers if divisible by three.\n",
    "\n",
    "Loop over the numbers from 1 to n (inclusively) and print out the square of the number if and only if that integer is divisible by 3."
   ]
  },
  {
   "cell_type": "code",
   "execution_count": null,
   "id": "0d52f503",
   "metadata": {},
   "outputs": [],
   "source": [
    "# Ask for keyboard input for n\n",
    "while True:\n",
    "    try:\n",
    "        n = int(input('Please enter a whole number: '))\n",
    "        break\n",
    "    except:\n",
    "        print('You did not enter a whole number. Please try again.')\n",
    "        \n",
    "# At this point in the code cell, we have a whole number in the variable n\n",
    "# We now need to loop over all integers from 1 up to and including n\n",
    "# Each iteration, we will check to see if the current number is divisible by 3\n",
    "# If it is, the print out the square of it. Otherwise print out a message\n",
    "\n",
    "# Use a for loop\n",
    "for i in range(1, n+1):\n",
    "    if i % 3 == 0:\n",
    "        print(f'{i} is divisible by 3, so squaring it: {i**2}')\n",
    "    else:\n",
    "        print(f'{i} is not divisible by 3')"
   ]
  },
  {
   "cell_type": "markdown",
   "id": "73a81bc9",
   "metadata": {},
   "source": [
    "\n",
    "----\n",
    "\n",
    "## Functions\n",
    "\n",
    "A *function* is simply a group of related statements that performs a specific task. Functions help break our program into smaller and modular chunks. Creating and using functions helps us keep our code more organized and manageable and reusable.\n",
    "\n",
    "Let's try to put this into action."
   ]
  },
  {
   "cell_type": "code",
   "execution_count": null,
   "id": "0fcdd69d",
   "metadata": {},
   "outputs": [],
   "source": []
  }
 ],
 "metadata": {
  "kernelspec": {
   "display_name": "Python 3 (ipykernel)",
   "language": "python",
   "name": "python3"
  },
  "language_info": {
   "codemirror_mode": {
    "name": "ipython",
    "version": 3
   },
   "file_extension": ".py",
   "mimetype": "text/x-python",
   "name": "python",
   "nbconvert_exporter": "python",
   "pygments_lexer": "ipython3",
   "version": "3.8.8"
  }
 },
 "nbformat": 4,
 "nbformat_minor": 5
}
