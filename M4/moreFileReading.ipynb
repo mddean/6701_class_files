{
 "cells": [
  {
   "cell_type": "markdown",
   "metadata": {},
   "source": [
    "# More About Reading Files\n",
    "\n",
    "We've seen rudimentary, yet very effective, ways to read data from files. Here we want to explore how to read **multiple** files from a directory. There is directory called `data` that contains several text files. We want to be able to read all of those in and then do some basic tasks.\n",
    "\n",
    "There are multiple ways to accomplish these tasks. Two options include:\n",
    "1. You can use the `os` module which allow us to traverse the directory structure.\n",
    "2. Use the `pathlib` module which is \"higher level\" and perhaps simpler to use.\n",
    "\n",
    "We will use `pathlib`."
   ]
  },
  {
   "cell_type": "code",
   "execution_count": null,
   "metadata": {},
   "outputs": [],
   "source": [
    "from pathlib import Path"
   ]
  },
  {
   "cell_type": "code",
   "execution_count": null,
   "metadata": {},
   "outputs": [],
   "source": [
    "# Create a Path object using the current working directory, `'.'`\n",
    "path = Path('.')\n",
    "path"
   ]
  },
  {
   "cell_type": "markdown",
   "metadata": {},
   "source": [
    "## Seeing Files and Folders\n",
    "We can all the different files and folders (i.e., directories) by using `path.iterdir()`. It returns a \"generator object\" which we can use in a `for` loop. Let's try it."
   ]
  },
  {
   "cell_type": "code",
   "execution_count": null,
   "metadata": {},
   "outputs": [],
   "source": [
    "path.iterdir()"
   ]
  },
  {
   "cell_type": "code",
   "execution_count": null,
   "metadata": {},
   "outputs": [],
   "source": [
    "for f in path.iterdir():\n",
    "    print(f'f is {f} and has type {type(f)}')"
   ]
  },
  {
   "cell_type": "markdown",
   "metadata": {},
   "source": [
    "### File or Directory (Folder)?\n",
    "From the above output can you determine which of the items returned were files versus directories (i.e., folders)? One hint is that files have an extension on their names, such as `.txt`, `.html`, or `.ipynb`. Directories generally do not have filename extensions. We could check to see if the name returned ends with a filename extensions (i.e., something after a period). \n",
    "\n",
    "However, there are two methods that we can use Path object: \n",
    "1. `.is_dir()` returns `True` if the object is a directory, `False` otherwise.\n",
    "2. `.is_file()` returns `True` if the object is a file, `False` otherwise.\n",
    "\n",
    "Let's trying using those two methods."
   ]
  },
  {
   "cell_type": "code",
   "execution_count": null,
   "metadata": {},
   "outputs": [],
   "source": [
    "for f in path.iterdir():\n",
    "    print(f'f is {f}:')\n",
    "    print(f'\\tf.is_dir() returns {f.is_dir()}')\n",
    "    print(f'\\tf.is_file() returns {f.is_file()}')"
   ]
  },
  {
   "cell_type": "markdown",
   "metadata": {},
   "source": [
    "### Thought Exercise\n",
    "For some reason, it thinks the `.ipynb_checkpoints` hidden file is a directory. Can you think of way to filter this out so that it works as you think it should?"
   ]
  },
  {
   "cell_type": "markdown",
   "metadata": {},
   "source": [
    "----\n",
    "\n",
    "## Looping Over Specific Files in Directory\n",
    "\n",
    "Recall we can also use `path.glob()` to find all the files in folder of a certain type, such as Excel files (ending `*.xlsx`). Let's look at all the files in the subfolder `data` and then try to read the ones that are text files ending with `.txt`.\n",
    "\n",
    "When you start the `glob()` with `**`, it means to recursively look in all the subfolders (subdirectories): e.g., `path.glob('**/data/*.*')` You should be careful with this approach, making sure you know what the directory structure contains. Otherwise, this recursion may take a long time. In our case, we know that the directory `data` only contains files, so we should be fine using it. We will do it both ways to see if there are any differences."
   ]
  },
  {
   "cell_type": "code",
   "execution_count": null,
   "metadata": {},
   "outputs": [],
   "source": [
    "# loop over the results of glob to see all files in the subfolder data\n",
    "for f in path.glob('**/data/*.*'):\n",
    "    print(f)"
   ]
  },
  {
   "cell_type": "code",
   "execution_count": null,
   "metadata": {},
   "outputs": [],
   "source": [
    "# Get rid of the ** at the the beginning to see if it matters\n",
    "for f in path.glob('data/*.*'):\n",
    "    print(f)"
   ]
  },
  {
   "cell_type": "markdown",
   "metadata": {},
   "source": [
    "### Open and Read `.txt` Files\n",
    "We want to only look at the `.txt` files in the folder `data`. Let's simply open them and read their contents and simply print it out. "
   ]
  },
  {
   "cell_type": "code",
   "execution_count": null,
   "metadata": {},
   "outputs": [],
   "source": [
    "# Use a for loop to iterate over the .txt files, one at a time\n",
    "for f in path.glob('data/*.txt'):\n",
    "    # print out file we are reading\n",
    "    print(f'File we are trying to open and read: {f}')\n",
    "    with open(f) as the_file:\n",
    "        # Just print out the contents of each file after file name\n",
    "        print(the_file.read())\n",
    "        print(\"\\n\\n\")"
   ]
  },
  {
   "cell_type": "markdown",
   "metadata": {},
   "source": [
    "----\n",
    "\n",
    "<font color='red' size = '5'> Student Exercise </font>\n",
    "\n",
    "## Doing Something With Stuff You Read In\n",
    "\n",
    "There is a file called `states.csv` in the subdirectory `./data`. There are 5 fields: State, Population, Electoral Votes, Highway Miles, and Square Miles. Each line represents one of the states in the United States.\n",
    "\n",
    "### Task\n",
    "\n",
    "Read in the file and create a `list` called `sums` which should contain the sum of the data elements in this order:\n",
    "\n",
    "1. Sum of the states' population\n",
    "2. Sum of the states' electoral votes\n",
    "3. Sum of the states' highway miles\n",
    "4. Sum of the states' square miles\n",
    "\n",
    "Do this task two ways: one using \"base\" reading of the file and one using `pandas`."
   ]
  },
  {
   "cell_type": "code",
   "execution_count": null,
   "metadata": {},
   "outputs": [],
   "source": [
    "# YOUR CODE HERE\n",
    "# Step 1: open the file and read its contents into memory and close file\n",
    "\n",
    "# Print out the contents to see what it looks like\n"
   ]
  },
  {
   "cell_type": "code",
   "execution_count": null,
   "metadata": {},
   "outputs": [],
   "source": [
    "# Step 2: HINT\n",
    "# One approach could be to:\n",
    "# Create a list that contains sublists\n",
    "# where each sublist are the 5 elements for a single state\n"
   ]
  },
  {
   "cell_type": "code",
   "execution_count": null,
   "metadata": {},
   "outputs": [],
   "source": [
    "# Step 3: HINT\n",
    "# initialize an empty list\n",
    "# loop over your 2-dimensional list created above adding up numerical \"columns\"\n"
   ]
  },
  {
   "cell_type": "code",
   "execution_count": null,
   "metadata": {},
   "outputs": [],
   "source": [
    "# Step 4: print out the list containing the total sums\n"
   ]
  },
  {
   "cell_type": "markdown",
   "metadata": {},
   "source": [
    "### Alternative Approach - `pandas`\n",
    "\n",
    "Now try using pandas to accomplish the same task."
   ]
  },
  {
   "cell_type": "code",
   "execution_count": null,
   "metadata": {},
   "outputs": [],
   "source": [
    "# Use pandas because its easy\n"
   ]
  },
  {
   "cell_type": "markdown",
   "metadata": {},
   "source": [
    "-----\n",
    "\n",
    "## Memory is Faster than Disk\n",
    "\n",
    "I have mentioned in class before that, in general, we want to open a file, get the contents out, put it in memory (RAM), and then close the file as quickly as possible. Additionally, we do want to **avoid** opening and reading the **same** file multiple times. Doing so is inefficient, especially in terms of time. RAM is faster than \"hitting\" the disk.\n",
    "\n",
    "Let's look at an example using the file `states.csv` above and see if we can discern this inefficiency.\n",
    "\n",
    "The magic command `%%timeit` **must** be the very first line of the code cell. This command runs the contents of the code cell several times with a large number of loops within each iteration. It calculates how long it takes to run and then prints out the average running time as well as a standard deviation of the running time. In both cases, we want those numbers to be **small**. "
   ]
  },
  {
   "cell_type": "code",
   "execution_count": null,
   "metadata": {},
   "outputs": [],
   "source": [
    "%%timeit\n",
    "# 1. Open and read in file to get the population\n",
    "\n",
    "    \n",
    "# 2. Open and read in file to get the electoral votes\n",
    "\n",
    "    \n",
    "# 3. Open and read in file to get the highway miles\n",
    "\n",
    "    \n",
    "# 4. Open and read in file to get the square miles\n"
   ]
  },
  {
   "cell_type": "markdown",
   "metadata": {},
   "source": [
    "### Original Code Timing\n",
    "\n",
    "Copy and paste your code from the Student Exercise above in the cell below. \n",
    "\n",
    "*Note: The **very first line** in the code cell must be the magic command %%timeit* "
   ]
  },
  {
   "cell_type": "code",
   "execution_count": null,
   "metadata": {},
   "outputs": [],
   "source": [
    "%%timeit\n",
    "# Paste original code from exercise here\n"
   ]
  },
  {
   "cell_type": "markdown",
   "metadata": {
    "deletable": false,
    "editable": false
   },
   "source": [
    "**&copy; 2021 - Present: Matthew D. Dean, Ph.D.   \n",
    "Clinical Associate Professor of Business Analytics at William \\& Mary.**"
   ]
  }
 ],
 "metadata": {
  "kernelspec": {
   "display_name": "Python 3 (ipykernel)",
   "language": "python",
   "name": "python3"
  },
  "language_info": {
   "codemirror_mode": {
    "name": "ipython",
    "version": 3
   },
   "file_extension": ".py",
   "mimetype": "text/x-python",
   "name": "python",
   "nbconvert_exporter": "python",
   "pygments_lexer": "ipython3",
   "version": "3.8.8"
  }
 },
 "nbformat": 4,
 "nbformat_minor": 4
}
